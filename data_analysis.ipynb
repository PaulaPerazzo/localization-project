{
 "cells": [
  {
   "cell_type": "markdown",
   "metadata": {},
   "source": [
    "# Data Analysis"
   ]
  },
  {
   "cell_type": "markdown",
   "metadata": {},
   "source": [
    "### Import necessary libriries "
   ]
  },
  {
   "cell_type": "code",
   "execution_count": 2,
   "metadata": {},
   "outputs": [],
   "source": [
    "import pandas as pd"
   ]
  },
  {
   "cell_type": "markdown",
   "metadata": {},
   "source": [
    "### Merge bts table with medictions table\n",
    "It's necessary to merge for test and train datasets. Also these datasets must be reduced to correctly join bts dataset"
   ]
  },
  {
   "cell_type": "code",
   "execution_count": 8,
   "metadata": {},
   "outputs": [],
   "source": [
    "bts = pd.read_csv('./data/bts.csv')\n",
    "meds = pd.read_csv('./data/meds_train.csv')\n",
    "\n",
    "meds_train_melt = pd.melt(\n",
    "    meds,\n",
    "    id_vars=['ponto_id', 'delay_1', 'delay_2', 'delay_3', 'lat', 'lon', 'indoor'],\n",
    "    value_vars=['rssi_1_1', 'rssi_1_2', 'rssi_1_3', 'rssi_2_1', 'rssi_2_2', 'rssi_2_3', 'rssi_3_1', 'rssi_3_2', 'rssi_3_3'],\n",
    "    var_name='rssi_id',\n",
    "    value_name='rssi_value'\n",
    ")\n",
    "\n",
    "# merge tables\n",
    "merged_df = pd.merge(\n",
    "    bts,\n",
    "    meds_train_melt,\n",
    "    left_on='RssiId',\n",
    "    right_on='rssi_id',\n",
    ")\n",
    "\n",
    "# save to csv\n",
    "merged_df.to_csv('./data/data_train.csv', index=False)"
   ]
  },
  {
   "cell_type": "code",
   "execution_count": 10,
   "metadata": {},
   "outputs": [],
   "source": [
    "# same thing for test data\n",
    "meds_test = pd.read_csv('./data/meds_test.csv')\n",
    "\n",
    "meds_test_melt = pd.melt(\n",
    "    meds_test,\n",
    "    id_vars=['ponto_id', 'delay_1', 'delay_2', 'delay_3'],\n",
    "    value_vars=['rssi_1_1', 'rssi_1_2', 'rssi_1_3', 'rssi_2_1', 'rssi_2_2', 'rssi_2_3', 'rssi_3_1', 'rssi_3_2', 'rssi_3_3'],\n",
    "    var_name='rssi_id',\n",
    "    value_name='rssi_value'\n",
    ")\n",
    "\n",
    "# merge tables\n",
    "merged_df_test = pd.merge(\n",
    "    bts,\n",
    "    meds_test_melt,\n",
    "    left_on='RssiId',\n",
    "    right_on='rssi_id',\n",
    ")\n",
    "\n",
    "# save to csv\n",
    "merged_df_test.to_csv('./data/data_test.csv', index=False)"
   ]
  },
  {
   "cell_type": "code",
   "execution_count": null,
   "metadata": {},
   "outputs": [],
   "source": []
  }
 ],
 "metadata": {
  "kernelspec": {
   "display_name": "localizationenv",
   "language": "python",
   "name": "python3"
  },
  "language_info": {
   "codemirror_mode": {
    "name": "ipython",
    "version": 3
   },
   "file_extension": ".py",
   "mimetype": "text/x-python",
   "name": "python",
   "nbconvert_exporter": "python",
   "pygments_lexer": "ipython3",
   "version": "3.8.19"
  }
 },
 "nbformat": 4,
 "nbformat_minor": 2
}
